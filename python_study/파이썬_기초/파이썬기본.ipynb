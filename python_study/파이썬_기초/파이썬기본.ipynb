{
 "cells": [
  {
   "cell_type": "markdown",
   "metadata": {},
   "source": [
    "### 자주 사용하는 주피터노트북 단축키\n",
    "+ Y - 해당 셀을 코드 작성 셀로 변경\n",
    "+ M - 해당 셀을 마크다운 셀로 변경\n",
    "+ Ctrl + Enter - 선택한 셀 실행\n",
    "+ D(D) -  선택한 셀을 삭제\n",
    "+ A - 선택한 셀 위에 새로운 셀 추가\n",
    "+ B - 선택한 셀 아래에 새로운 셀 추가"
   ]
  },
  {
   "cell_type": "markdown",
   "metadata": {},
   "source": [
    "### 파이썬의 출력문\n",
    "+ 파이썬은 명령어 종료 후 세미콜론 붙이지 않음!\n"
   ]
  },
  {
   "cell_type": "code",
   "execution_count": 4,
   "metadata": {},
   "outputs": [
    {
     "name": "stdout",
     "output_type": "stream",
     "text": [
      "10\n",
      "python\n",
      "python\n",
      "30\n"
     ]
    }
   ],
   "source": [
    "# 숫자출력\n",
    "print(10)\n",
    "\n",
    "#문자 출력 : 출력하고자 하는 문자를 홀따옴표 혹은 쌍따옴표로 감싼다.\n",
    "print('python')\n",
    "print(\"python\")\n",
    "\n",
    "# 출력문 안의 내용이 연산 가능하다면 연산 결과를 출력\n",
    "print(10+20)\n",
    "\n",
    "# 자바와 다르게 숫자와 문자끼리의 합은 오류가 발생한다\n",
    "# print(10+'python')\n"
   ]
  },
  {
   "cell_type": "markdown",
   "metadata": {},
   "source": [
    "### 파이썬의 연산자"
   ]
  },
  {
   "cell_type": "code",
   "execution_count": 9,
   "metadata": {},
   "outputs": [
    {
     "name": "stdout",
     "output_type": "stream",
     "text": [
      "3.3333333333333335\n",
      "3\n",
      "1\n",
      "8\n"
     ]
    }
   ],
   "source": [
    "# 나눗셈 연산 결과는 소수점 자리까지 결과가 출력!\n",
    "print(10/3)\n",
    "# 몫만 계산하는 연산자\n",
    "print(10//3)\n",
    "#나머지를 구하는 연산자\n",
    "print(10%3)\n",
    "\n",
    "#제곱 연산자\n",
    "print(2**3)\n",
    "\n",
    "#>,<, >=, <=, != 자바와 동일 "
   ]
  },
  {
   "cell_type": "markdown",
   "metadata": {},
   "source": [
    "### 파이썬에서의 자료형(기본)\n",
    "+ 파이썬은 눈에 보이지 않는 자료형은 존재"
   ]
  },
  {
   "cell_type": "code",
   "execution_count": 18,
   "metadata": {},
   "outputs": [
    {
     "name": "stdout",
     "output_type": "stream",
     "text": [
      "<class 'int'>\n",
      "<class 'float'>\n",
      "<class 'str'>\n",
      "<class 'int'>\n",
      "<class 'float'>\n",
      "<class 'str'>\n",
      "<class 'bool'>\n"
     ]
    }
   ],
   "source": [
    "a=10\n",
    "print(type(a))\n",
    "\n",
    "b=10.5\n",
    "print(type(b))\n",
    "\n",
    "c='python'\n",
    "print(type(c))\n",
    "\n",
    "\n",
    "#파이썬에서의 기본 자료형 변환\n",
    "aa=int(\"10\")\n",
    "bb= float(\"10.5\")\n",
    "cc=str(100)\n",
    "print(type(aa))\n",
    "print(type(bb))\n",
    "print(type(cc))\n",
    "\n",
    "# 참 또는 거짓\n",
    "bool1 = True\n",
    "bool2 = False\n",
    "\n",
    "print(type(bool1))\n",
    "\n"
   ]
  },
  {
   "cell_type": "markdown",
   "metadata": {},
   "source": [
    "### 많이 사용하는 파이썬의 자료형\n",
    "+ 리스트(배열)\n",
    "+ 딕셔너리(dictionary)\n",
    "+ set\n",
    "+ 튜플(tuple)"
   ]
  },
  {
   "cell_type": "code",
   "execution_count": 25,
   "metadata": {},
   "outputs": [
    {
     "name": "stdout",
     "output_type": "stream",
     "text": [
      "[1, 2, 3, 4, 5]\n",
      "<class 'list'>\n",
      "1.1\n"
     ]
    }
   ],
   "source": [
    "# 리스트 생성\n",
    "list_1 = [1,2,3,4,5]\n",
    "print(list_1)\n",
    "print(type(list_1))\n",
    "\n",
    "list_2= [1,1.1,'python']\n",
    "print(list_2[1])\n"
   ]
  },
  {
   "cell_type": "code",
   "execution_count": 29,
   "metadata": {},
   "outputs": [
    {
     "name": "stdout",
     "output_type": "stream",
     "text": [
      "{'name': 'hong', 'age': 20, 'addr': '울산시'}\n",
      "20\n",
      "20\n"
     ]
    }
   ],
   "source": [
    "#딕셔너리 dictionary\n",
    "dic_1={\n",
    "    'name':'hong',\n",
    "    'age':20,\n",
    "    'addr': '울산시'\n",
    "}\n",
    "\n",
    "print(dic_1)\n",
    "print(dic_1[\"age\"])\n",
    "print(dic_1.get('age'))"
   ]
  },
  {
   "cell_type": "code",
   "execution_count": 31,
   "metadata": {},
   "outputs": [
    {
     "name": "stdout",
     "output_type": "stream",
     "text": [
      "캐드반\n"
     ]
    }
   ],
   "source": [
    "school ={\n",
    "    'schoolName': '그린학교',\n",
    "    'classInfo': [\n",
    "        {\n",
    "            'className': '자바반',\n",
    "            'stuCnt':30\n",
    "        },\n",
    "        {\n",
    "            'className':'캐드반',\n",
    "            'stuCnt':30\n",
    "        }\n",
    "    ]\n",
    "}\n",
    "\n",
    "print(school['classInfo'][1]['className'])\n",
    "\n"
   ]
  },
  {
   "cell_type": "code",
   "execution_count": null,
   "metadata": {},
   "outputs": [],
   "source": []
  }
 ],
 "metadata": {
  "kernelspec": {
   "display_name": "Python 3",
   "language": "python",
   "name": "python3"
  },
  "language_info": {
   "codemirror_mode": {
    "name": "ipython",
    "version": 3
   },
   "file_extension": ".py",
   "mimetype": "text/x-python",
   "name": "python",
   "nbconvert_exporter": "python",
   "pygments_lexer": "ipython3",
   "version": "3.12.2"
  }
 },
 "nbformat": 4,
 "nbformat_minor": 2
}
