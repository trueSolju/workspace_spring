{
 "cells": [
  {
   "cell_type": "markdown",
   "metadata": {},
   "source": [
    "### 리스트(List)\n",
    "+ 리스트 변수 생성 시 list라는 이름의 변수 생성은 금지!!"
   ]
  },
  {
   "cell_type": "code",
   "execution_count": 2,
   "metadata": {},
   "outputs": [],
   "source": [
    "# 빈 리스트를 생성\n",
    "list1 = []\n",
    "\n",
    "# 초기 값을 갖는 리스트 생성\n",
    "# 자바와 다르게 다른 자료형이 리스트의 요소로 들어올 수 있음.\n",
    "list2 = [1, 1.1, 'python']"
   ]
  },
  {
   "cell_type": "code",
   "execution_count": 7,
   "metadata": {},
   "outputs": [
    {
     "name": "stdout",
     "output_type": "stream",
     "text": [
      "[1, 1.1, 'python']\n",
      "1 1.1 python \n",
      "1.1\n"
     ]
    }
   ],
   "source": [
    "# 리스트의 값 읽기\n",
    "print(list2)\n",
    "\n",
    "# 반복문을 이용하여 리스트의 모든 데이터를 출력\n",
    "for e in list2 : \n",
    "    print(e, end=' ')\n",
    "\n",
    "# 각각의 요소를 출력\n",
    "print()\n",
    "print(list2[1])"
   ]
  },
  {
   "cell_type": "code",
   "execution_count": 15,
   "metadata": {},
   "outputs": [
    {
     "name": "stdout",
     "output_type": "stream",
     "text": [
      "[0, 1, 2]\n",
      "[0, 1, 2, 3, 4]\n",
      "[6, 7, 8, 9, 10]\n",
      "[0, 1, 2, 3, 4, 5, 6, 7, 8, 9, 10]\n",
      "[8, 9, 10]\n"
     ]
    }
   ],
   "source": [
    "#슬라이싱\n",
    "list3 = [0, 1, 2, 3, 4, 5, 6, 7, 8, 9, 10]\n",
    "# [a, b]\n",
    "# a : 시작 인덱스\n",
    "# b : 마지막 인덱스 전까지!\n",
    "print(list3[0:3])\n",
    "print(list3[:5])\n",
    "print(list3[6:])\n",
    "print(list3[:])\n",
    "print(list3[-3:])"
   ]
  },
  {
   "cell_type": "code",
   "execution_count": 26,
   "metadata": {},
   "outputs": [
    {
     "name": "stdout",
     "output_type": "stream",
     "text": [
      "ja\n",
      "jpg\n",
      "jpg\n",
      "jpg\n",
      "15\n",
      "3\n",
      "2\n",
      "11\n",
      "안녕하세요\n",
      "또 만나요\n",
      "만나서 반가웠어요\n"
     ]
    }
   ],
   "source": [
    "# 슬라이싱의 또 다른 활용\n",
    "test_str = 'java python c++'\n",
    "print(test_str[0:2])\n",
    "\n",
    "# 퀴즈\n",
    "# 아래 리스트에 저장된 문자열들에서 jpg 라는 문자열만 추출하여 출력해보세요.\n",
    "str_arr = [\n",
    "    '안녕하세요.jpg',\n",
    "    '또 만나요.jpg',\n",
    "    '만나서 반가웠어요.jpg'\n",
    "]\n",
    "\n",
    "for e in str_arr :\n",
    "    print(e[-3:])\n",
    "\n",
    "# .jpg 라는 문자열을 제외한 문자열만 추출하여 출력\n",
    "# 문자열의 길이\n",
    "print(len(test_str))\n",
    "print(len(str_arr))\n",
    "\n",
    "# 문자열에서 특정 문자열의 위치값 찾아내기\n",
    "str1 = 'python'\n",
    "print(str1.index('t'))\n",
    "str2 = 'java.python.c++'\n",
    "print(str2.rindex('.'))\n",
    "\n",
    "# str_arr 에서 .jpg라는 문자열을 제외한 나머지 문자열만 추출하여 출력\n",
    "for e in str_arr :\n",
    "    print(e[:e.rindex('.')])"
   ]
  },
  {
   "cell_type": "code",
   "execution_count": 28,
   "metadata": {},
   "outputs": [
    {
     "name": "stdout",
     "output_type": "stream",
     "text": [
      "[1, 2.2, 10.5]\n",
      "[1, 1.5, 2.2, 10.5]\n"
     ]
    }
   ],
   "source": [
    "# 리스트에 데이터 추가하기\n",
    "list4 = []\n",
    "\n",
    "# append : 리스트의 가장 마지막에 데이터 추가\n",
    "list4.append(1)\n",
    "list4.append(2.2)\n",
    "list4.append(10.5)\n",
    "\n",
    "print(list4)\n",
    "\n",
    "# insert(위치, 값) : 리스트에서 원하는 위치에 데이터 추가\n",
    "list4.insert(1, 1.5)\n",
    "print(list4)"
   ]
  },
  {
   "cell_type": "code",
   "execution_count": 35,
   "metadata": {},
   "outputs": [
    {
     "name": "stdout",
     "output_type": "stream",
     "text": [
      "[2, 3, 4, 5, 6, 7, 8, 9]\n",
      "[]\n",
      "[]\n"
     ]
    }
   ],
   "source": [
    "# 리스트에서 데이터 삭제하기\n",
    "# del(리스트명[인덱스])\n",
    "#del(list4[2])\n",
    "#print(list4)\n",
    "\n",
    "list5 = [1,2,3,4,5,6,7,8,9]\n",
    "#del(list5[:3])\n",
    "#print(list5)\n",
    "\n",
    "#리스트명.remove(삭제할 값)\n",
    "list5.remove(1)\n",
    "print(list5)\n",
    "\n",
    "# 리스트의 모든 내용 지우기\n",
    "list5.clear()\n",
    "print(list5)\n",
    "\n",
    "list5 = [1,2,3,4,5,6,7,8,9]\n",
    "del(list5[:])\n",
    "#del(list5)\n",
    "print(list5)\n"
   ]
  },
  {
   "cell_type": "markdown",
   "metadata": {},
   "source": [
    "### 딕셔너리(Dictionary)"
   ]
  },
  {
   "cell_type": "code",
   "execution_count": 36,
   "metadata": {},
   "outputs": [],
   "source": [
    "# 딕셔너리 생성\n",
    "dic1 = {}\n",
    "dic2 = {'이름':'홍길동', '나이':20}"
   ]
  },
  {
   "cell_type": "code",
   "execution_count": 42,
   "metadata": {},
   "outputs": [
    {
     "name": "stdout",
     "output_type": "stream",
     "text": [
      "{'이름': '홍길동', '나이': 20}\n",
      "홍길동\n",
      "20\n",
      "key = 이름, value = 홍길동\n",
      "key = 나이, value = 20\n"
     ]
    }
   ],
   "source": [
    "# 딕셔너리 데이터 출력\n",
    "print(dic2)\n",
    "\n",
    "# 하나의 데이터만 출력\n",
    "print(dic2['이름'])\n",
    "print(dic2.get('나이'))\n",
    "\n",
    "#반복문 이용하기\n",
    "for key in dic2:\n",
    "    print(f'key = {key}, value = {dic2[key]}')"
   ]
  },
  {
   "cell_type": "code",
   "execution_count": 2,
   "metadata": {},
   "outputs": [
    {
     "name": "stdout",
     "output_type": "stream",
     "text": [
      "{'이름': '홍길동'}\n",
      "{'이름': '홍길동', '연락처': '010-1111-2222'}\n"
     ]
    }
   ],
   "source": [
    "# 딕셔너리에 데이터 추가하기\n",
    "dic3 = {}\n",
    "\n",
    "# key가 이름이고 value는 '홍길동'인 데이터 추가\n",
    "dic3['이름'] = '홍길동'\n",
    "print(dic3)\n",
    "dic3['연락처'] = '010-1111-2222'\n",
    "print(dic3)\n",
    "\n",
    "# dic3 안에 키가 '이름'인 데이터의 값을 '이순신'으로 변경\n",
    "dic3['이름'] = '이순신'"
   ]
  },
  {
   "cell_type": "code",
   "execution_count": 46,
   "metadata": {},
   "outputs": [
    {
     "name": "stdout",
     "output_type": "stream",
     "text": [
      "{'연락처': '010-1111-2222'}\n"
     ]
    }
   ],
   "source": [
    "# 데이터 삭제하기\n",
    "# 키가 '이름'인 데이터를 삭제\n",
    "del(dic3['이름'])\n",
    "print(dic3)\n",
    "\n",
    "#딕셔너리 안의 모든 데이터 삭제\n",
    "dic3.clear()"
   ]
  },
  {
   "cell_type": "code",
   "execution_count": 47,
   "metadata": {},
   "outputs": [
    {
     "name": "stdout",
     "output_type": "stream",
     "text": [
      "['10', 'java', '20.5', '홍길동', '집에가고싶다']\n"
     ]
    }
   ],
   "source": [
    "# 리스트 문제1\n",
    "# 빈 리스트를 생성하고 키보드로 데이터 5개를 입력받아 \n",
    "# 입력받은 데이터를 리스트에 추가 ,그리고 리스트의 모든 내용 출력\n",
    "test_list1 = []\n",
    "for i in range(5):\n",
    "    value = input(f'{i + 1}번째 값 : ')\n",
    "    test_list1.append(value)\n",
    "\n",
    "print(test_list1)"
   ]
  },
  {
   "cell_type": "code",
   "execution_count": 49,
   "metadata": {},
   "outputs": [
    {
     "name": "stdout",
     "output_type": "stream",
     "text": [
      "삭제 결과 : [1, 2, 4, 5]\n"
     ]
    }
   ],
   "source": [
    "# 리스트 문제2\n",
    "# 아래 제시된 리스트에서 사용자가 입력한 값을 찾아 삭제하는 코드 작성\n",
    "test_list2 = [1,2,3,4,5]\n",
    "\n",
    "searchData = int(input('찾으려는 데이터 입력 : '))\n",
    "\n",
    "if searchData in test_list2 :\n",
    "    test_list2.remove(searchData)\n",
    "    print(f'삭제 결과 : {test_list2}')\n",
    "else :\n",
    "    print('삭제하려는 데이터가 존재하지 않습니다~')\n"
   ]
  },
  {
   "cell_type": "code",
   "execution_count": 51,
   "metadata": {},
   "outputs": [
    {
     "name": "stdout",
     "output_type": "stream",
     "text": [
      "30\n",
      "10\n"
     ]
    }
   ],
   "source": [
    "#리스트 문제3\n",
    "# 1~10까지의 수 중 짝수만 리스트에 저장하고 리스트에 저장된 데이터의 합 출력\n",
    "test_list3 = []\n",
    "for i in range(1, 11):\n",
    "    if i % 2 == 0:\n",
    "        test_list3.append(i)\n",
    "\n",
    "print(sum(test_list3))\n",
    "print(max(test_list3))\n",
    "#sum(test_list3) / len(test_list3)\n"
   ]
  },
  {
   "cell_type": "code",
   "execution_count": 60,
   "metadata": {},
   "outputs": [],
   "source": [
    "del sum"
   ]
  },
  {
   "cell_type": "code",
   "execution_count": 61,
   "metadata": {},
   "outputs": [
    {
     "data": {
      "text/plain": [
       "15"
      ]
     },
     "execution_count": 61,
     "metadata": {},
     "output_type": "execute_result"
    }
   ],
   "source": [
    "\n",
    "list6 = [1,2,3,4,5]\n",
    "\n",
    "sum(list6)"
   ]
  },
  {
   "cell_type": "code",
   "execution_count": 62,
   "metadata": {},
   "outputs": [
    {
     "name": "stdout",
     "output_type": "stream",
     "text": [
      "{'이름': '홍길동', '나이': 20, '국어점수': 80, '영어점수': 90}\n"
     ]
    }
   ],
   "source": [
    "#5번 문제 풀이 작성\n",
    "student = {}\n",
    "student['이름'] = input('이름 입력')\n",
    "student['나이'] = int(input('나이 입력'))\n",
    "student['국어점수'] = int(input('국어점수 입력'))\n",
    "student['영어점수'] = int(input('영어점수 입력'))\n",
    "\n",
    "print(student)"
   ]
  },
  {
   "cell_type": "code",
   "execution_count": 64,
   "metadata": {},
   "outputs": [
    {
     "name": "stdout",
     "output_type": "stream",
     "text": [
      "{'이름': '홍길동', '나이': 20, '국어점수': 80, '영어점수': 90, '총점': 170}\n"
     ]
    }
   ],
   "source": [
    "# 위에서 만든 딕셔너리에 '총점' 키를 생성하고\n",
    "# 해당 키의 값으로 국어점수와 영어점수의 합을 저장\n",
    "student['총점'] = student['국어점수'] + student['영어점수']\n",
    "print(student)"
   ]
  },
  {
   "cell_type": "code",
   "execution_count": 65,
   "metadata": {},
   "outputs": [],
   "source": [
    "class_room_data = {\n",
    "    'stu_no' : [1, 2, 3, 4, 5],\n",
    "    'stu_name' : ['김자바', '이자바', '박자바', '최자바', '정자바'],\n",
    "    'stu_score' : [85, 65, 70, 80, 95],\n",
    "    'stu_grade':['a', 'a', 'b', 'b', 'c']\n",
    "}"
   ]
  },
  {
   "cell_type": "code",
   "execution_count": 66,
   "metadata": {},
   "outputs": [
    {
     "name": "stdout",
     "output_type": "stream",
     "text": [
      "95\n"
     ]
    }
   ],
   "source": [
    "# 최고점수 출력\n",
    "print(max(class_room_data['stu_score']))"
   ]
  },
  {
   "cell_type": "code",
   "execution_count": 69,
   "metadata": {},
   "outputs": [
    {
     "name": "stdout",
     "output_type": "stream",
     "text": [
      "{'stu_no': [1, 2, 3, 4, 5], 'stu_name': ['김자바', '이자바', '박자바', '최자바', '정자바'], 'stu_score': [85, 65, 70, 80, 95], 'stu_grade': ['B', 'C', 'C', 'B', 'A']}\n"
     ]
    }
   ],
   "source": [
    "# 위의 딕셔너리 데이터에 'stu_grade'라는 키를 추가하고\n",
    "# 해당 키에 대한 값은 아래의 글을 참고한다.\n",
    "# 90 <= 점수 : A\n",
    "# 80 <= 점수 < 90 : B\n",
    "# 점수 < 80 : C\n",
    "class_room_data['stu_grade'] = []\n",
    "\n",
    "for score in class_room_data['stu_score']:\n",
    "    grade = ''\n",
    "    \n",
    "    if score >= 90:\n",
    "        grade = 'A' \n",
    "    elif score >= 80:\n",
    "        grade = 'B'\n",
    "    else : \n",
    "        grade = 'C'\n",
    "\n",
    "    class_room_data['stu_grade'].append(grade)\n",
    "\n",
    "print(class_room_data)"
   ]
  },
  {
   "cell_type": "code",
   "execution_count": null,
   "metadata": {},
   "outputs": [],
   "source": []
  }
 ],
 "metadata": {
  "kernelspec": {
   "display_name": "Python 3",
   "language": "python",
   "name": "python3"
  },
  "language_info": {
   "codemirror_mode": {
    "name": "ipython",
    "version": 3
   },
   "file_extension": ".py",
   "mimetype": "text/x-python",
   "name": "python",
   "nbconvert_exporter": "python",
   "pygments_lexer": "ipython3",
   "version": "3.12.2"
  }
 },
 "nbformat": 4,
 "nbformat_minor": 2
}
